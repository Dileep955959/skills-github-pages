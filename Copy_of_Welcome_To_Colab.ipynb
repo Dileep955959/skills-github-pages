{
  "cells": [
    {
      "cell_type": "markdown",
      "metadata": {
        "id": "view-in-github",
        "colab_type": "text"
      },
      "source": [
        "<a href=\"https://colab.research.google.com/github/Dileep955959/skills-github-pages/blob/main/Copy_of_Welcome_To_Colab.ipynb\" target=\"_parent\"><img src=\"https://colab.research.google.com/assets/colab-badge.svg\" alt=\"Open In Colab\"/></a>"
      ]
    },
    {
      "cell_type": "markdown",
      "source": [],
      "metadata": {
        "id": "xCc_TsB9fbhq"
      }
    },
    {
      "cell_type": "markdown",
      "source": [
        "Day -1\n"
      ],
      "metadata": {
        "id": "nAYSXytwfcI6"
      }
    },
    {
      "source": [
        "import pandas as pd\n",
        "data = [1,2,3,4,5]\n",
        "series = pd.Series(data)\n",
        "print(series)"
      ],
      "cell_type": "code",
      "metadata": {
        "colab": {
          "base_uri": "https://localhost:8080/"
        },
        "id": "Amk-Pm02gu3S",
        "outputId": "145096b1-2140-4025-8f77-1054c6fc9b98"
      },
      "execution_count": null,
      "outputs": [
        {
          "output_type": "stream",
          "name": "stdout",
          "text": [
            "0    1\n",
            "1    2\n",
            "2    3\n",
            "3    4\n",
            "4    5\n",
            "dtype: int64\n"
          ]
        }
      ]
    },
    {
      "cell_type": "markdown",
      "source": [],
      "metadata": {
        "id": "_1BE_xdVjMKO"
      }
    },
    {
      "cell_type": "code",
      "source": [
        "Student = {\n",
        "    \"name\":\"Rahul\",\n",
        "    \"age\":21,\n",
        "    \"cource\": \"Computer Science\",\n",
        "    \"marks\":[85,90,88]\n",
        "}\n",
        "print(Student)"
      ],
      "metadata": {
        "colab": {
          "base_uri": "https://localhost:8080/"
        },
        "id": "Kwgo9nZbg9A9",
        "outputId": "bd3ba490-a95d-4f13-c951-9bdb2c555d4d"
      },
      "execution_count": null,
      "outputs": [
        {
          "output_type": "stream",
          "name": "stdout",
          "text": [
            "{'name': 'Rahul', 'age': 21, 'cource': 'Computer Science', 'marks': [85, 90, 88]}\n"
          ]
        }
      ]
    },
    {
      "cell_type": "markdown",
      "source": [
        "Function"
      ],
      "metadata": {
        "id": "yrU1jW-lrTrH"
      }
    },
    {
      "source": [
        "import pandas as pd\n",
        "import numpy as np  # Import numpy\n",
        "\n",
        "data = {\n",
        "    'Name': ['Alice', 'Bob', 'Charlie', np.nan, np.nan, np.nan], # added np.nan to match length\n",
        "    'Age': [25, 30, 35, np.nan, np.nan, np.nan], # added np.nan to match length\n",
        "    'Salary': [50000, 60000, 55000, np.nan, np.nan, 70000],  # Use np.nan\n",
        "    'Department': ['HR', 'Finance', 'HR', 'IT', 'IT', np.nan] # added np.nan to match length\n",
        "}\n",
        "df = pd.DataFrame(data)\n",
        "print(df.head())\n",
        "print(df.head())\n",
        "\n",
        "print(df.info())\n",
        "\n",
        "print(df.describe())"
      ],
      "cell_type": "code",
      "metadata": {
        "colab": {
          "base_uri": "https://localhost:8080/"
        },
        "id": "t7saRxlXuVvP",
        "outputId": "8c9a6d97-0c3b-43ff-ca6d-1f03360fb316"
      },
      "execution_count": null,
      "outputs": [
        {
          "output_type": "stream",
          "name": "stdout",
          "text": [
            "      Name   Age   Salary Department\n",
            "0    Alice  25.0  50000.0         HR\n",
            "1      Bob  30.0  60000.0    Finance\n",
            "2  Charlie  35.0  55000.0         HR\n",
            "3      NaN   NaN      NaN         IT\n",
            "4      NaN   NaN      NaN         IT\n",
            "      Name   Age   Salary Department\n",
            "0    Alice  25.0  50000.0         HR\n",
            "1      Bob  30.0  60000.0    Finance\n",
            "2  Charlie  35.0  55000.0         HR\n",
            "3      NaN   NaN      NaN         IT\n",
            "4      NaN   NaN      NaN         IT\n",
            "<class 'pandas.core.frame.DataFrame'>\n",
            "RangeIndex: 6 entries, 0 to 5\n",
            "Data columns (total 4 columns):\n",
            " #   Column      Non-Null Count  Dtype  \n",
            "---  ------      --------------  -----  \n",
            " 0   Name        3 non-null      object \n",
            " 1   Age         3 non-null      float64\n",
            " 2   Salary      4 non-null      float64\n",
            " 3   Department  5 non-null      object \n",
            "dtypes: float64(2), object(2)\n",
            "memory usage: 324.0+ bytes\n",
            "None\n",
            "        Age        Salary\n",
            "count   3.0      4.000000\n",
            "mean   30.0  58750.000000\n",
            "std     5.0   8539.125638\n",
            "min    25.0  50000.000000\n",
            "25%    27.5  53750.000000\n",
            "50%    30.0  57500.000000\n",
            "75%    32.5  62500.000000\n",
            "max    35.0  70000.000000\n"
          ]
        }
      ]
    },
    {
      "cell_type": "code",
      "source": [
        "matrix = np.arry([1,2,3])"
      ],
      "metadata": {
        "id": "QyIJfH21vv9A"
      },
      "execution_count": null,
      "outputs": []
    },
    {
      "cell_type": "code",
      "source": [
        "import matplotlib.pyplot as plt\n",
        "\n",
        "# Data for the bar plot\n",
        "months = ['Jan', 'Feb', 'Mar', 'Apr', 'May', 'Jun']\n",
        "sales = [120, 150, 180, 220, 300, 280]\n",
        "\n",
        "# Creating the bar plot\n",
        "plt.bar(months, sales, color='blue')\n",
        "\n",
        "# Adding labels and title\n",
        "plt.xlabel('Months')\n",
        "plt.ylabel('Sales (in units)')\n",
        "plt.title('Monthly Sales Data')\n",
        "\n",
        "# Display the plot\n",
        "plt.show()\n"
      ],
      "metadata": {
        "colab": {
          "base_uri": "https://localhost:8080/",
          "height": 472
        },
        "id": "XA28UHfB3tS7",
        "outputId": "d4470465-4711-4483-fd80-cf5fb486bf97"
      },
      "execution_count": null,
      "outputs": [
        {
          "output_type": "display_data",
          "data": {
            "text/plain": [
              "<Figure size 640x480 with 1 Axes>"
            ],
            "image/png": "[encoded data removed]"
          },
          "metadata": {}
        }
      ]
    },
    {
      "cell_type": "markdown",
      "source": [],
      "metadata": {
        "id": "M--bfbsi4FML"
      }
    },
    {
      "cell_type": "code",
      "source": [
        "labels = ['HR', 'IT', 'Finance', 'Marketing']\n",
        "sizes = [40, 70, 30, 50]\n",
        "\n",
        "plt.pie(sizes, labels=labels, autopct='%.1f%%', colors=['lightblue', 'red', 'orange', 'yellow'])\n",
        "plt.title(\"Employee Distribution by Department\")\n",
        "plt.show()\n",
        "\n"
      ],
      "metadata": {
        "colab": {
          "base_uri": "https://localhost:8080/",
          "height": 428
        },
        "id": "VmbiIEvL4Fer",
        "outputId": "42d18f75-61f8-43d8-df51-760861df7156"
      },
      "execution_count": null,
      "outputs": [
        {
          "output_type": "display_data",
          "data": {
            "text/plain": [
              "<Figure size 640x480 with 1 Axes>"
            ],
            "image/png": "[encoded data removed]"
          },
          "metadata": {}
        }
      ]
    },
    {
      "cell_type": "code",
      "source": [],
      "metadata": {
        "id": "dlI2yr2w58FB"
      },
      "execution_count": null,
      "outputs": []
    },
    {
      "cell_type": "code",
      "source": [
        "import numpy as np\n",
        "from scipy.stats import norm\n",
        "\n",
        "# Given data\n",
        "population_mean = 1000  # μ\n",
        "population_std = 50  # σ\n",
        "sample_size = 40  # n\n",
        "sample_mean = 980  # x̄\n",
        "\n",
        "# Compute Z-score\n",
        "z_score = (sample_mean - population_mean) / (population_std / np.sqrt(sample_size))\n",
        "\n",
        "# Find the critical value for 95% confidence level\n",
        "alpha = 0.05\n",
        "z_critical = norm.ppf(1 - alpha/2)  # Two-tailed test\n",
        "\n",
        "# Print results\n",
        "print(f\"Z-Score: {z_score:.2f}\")\n",
        "print(f\"Critical Z-Value: ±{z_critical:.2f}\")\n",
        "\n",
        "# Decision making\n",
        "if abs(z_score) > z_critical:\n",
        "    print(\"Reject the null hypothesis: The new batch is significantly different.\")\n",
        "else:\n",
        "    print(\"Fail to reject the null hypothesis: No significant difference.\")"
      ],
      "metadata": {
        "colab": {
          "base_uri": "https://localhost:8080/"
        },
        "id": "PluN8PjaiTGu",
        "outputId": "aef19b89-8969-4fc0-8051-6f0f5da9770c"
      },
      "execution_count": null,
      "outputs": [
        {
          "output_type": "stream",
          "name": "stdout",
          "text": [
            "Z-Score: -2.53\n",
            "Critical Z-Value: ±1.96\n",
            "Reject the null hypothesis: The new batch is significantly different.\n"
          ]
        }
      ]
    },
    {
      "cell_type": "markdown",
      "source": [],
      "metadata": {
        "id": "z-tZQhJ_iS3S"
      }
    },
    {
      "cell_type": "code",
      "source": [
        "import random\n",
        "def dice():\n",
        "  return random.randint(1,6)\n",
        "  print(dice())"
      ],
      "metadata": {
        "id": "sPj-QdK_y8kr"
      },
      "execution_count": null,
      "outputs": []
    },
    {
      "cell_type": "markdown",
      "source": [
        "write a python program tha randodly select the color from a list red,blue, greaan yellow"
      ],
      "metadata": {
        "id": "EZC4-1hQzpZJ"
      }
    },
    {
      "cell_type": "code",
      "source": [
        "import random\n",
        "\n",
        "# List of colors\n",
        "colors = [\"red\", \"blue\", \"green\", \"yellow\"]\n",
        "\n",
        "# Randomly select a color\n",
        "selected_color = random.choice(colors)\n",
        "\n",
        "# Print the selected color\n",
        "print(f\"The randomly selected color is: {selected_color}\")\n"
      ],
      "metadata": {
        "id": "SxpRkc3r0Nty",
        "outputId": "d34a6450-759c-4d41-9f02-9f86c895d090",
        "colab": {
          "base_uri": "https://localhost:8080/"
        }
      },
      "execution_count": null,
      "outputs": [
        {
          "output_type": "stream",
          "name": "stdout",
          "text": [
            "The randomly selected color is: red\n"
          ]
        }
      ]
    },
    {
      "cell_type": "code",
      "source": [
        "import re\n",
        "\n",
        "text = \"This   is  a   sentence with   extra spaces.\"\n",
        "\n",
        "clean_text = re.sub(r\"\\s+\", \" \", text)  # Replace multiple spaces with a single space\n",
        "\n",
        "print(clean_text)\n"
      ],
      "metadata": {
        "colab": {
          "base_uri": "https://localhost:8080/"
        },
        "id": "UfuN9O3zplz9",
        "outputId": "e7c51905-a05f-42af-a4de-f29dc1ce75ff"
      },
      "execution_count": 2,
      "outputs": [
        {
          "output_type": "stream",
          "name": "stdout",
          "text": [
            "This is a sentence with extra spaces.\n"
          ]
        }
      ]
    },
    {
      "cell_type": "code",
      "source": [
        "import re\n",
        "\n",
        "text = \"This   is  a   sentence with   extra spaces.\"\n",
        "\n",
        "clean_text = re.sub(r\"\\s+\", \" \", text)  # Replace multiple spaces with a single space\n",
        "\n",
        "print(clean_text)\n"
      ],
      "metadata": {
        "colab": {
          "base_uri": "https://localhost:8080/"
        },
        "id": "_RRsv88OqHE1",
        "outputId": "b90fb525-aa76-4e17-f6c1-767d1f2ff4b9"
      },
      "execution_count": 3,
      "outputs": [
        {
          "output_type": "stream",
          "name": "stdout",
          "text": [
            "This is a sentence with extra spaces.\n"
          ]
        }
      ]
    },
    {
      "cell_type": "code",
      "source": [
        "import re\n",
        "\n",
        "text = \"Hello World\"\n",
        "pattern = r\"Hello\"\n",
        "\n",
        "match = re.match(pattern, text)\n",
        "if match:\n",
        "    print(\"Match found!\")\n",
        "else:\n",
        "    print(\"No match.\")\n",
        "\n"
      ],
      "metadata": {
        "colab": {
          "base_uri": "https://localhost:8080/"
        },
        "id": "HbA_QvF2rQ2c",
        "outputId": "296beadc-c383-41e3-f969-2e0e050a7de4"
      },
      "execution_count": 5,
      "outputs": [
        {
          "output_type": "stream",
          "name": "stdout",
          "text": [
            "Match found!\n"
          ]
        }
      ]
    },
    {
      "cell_type": "code",
      "source": [
        "import re\n",
        "\n",
        "text = \"Hello World\"\n",
        "pattern = r\"Hello\"\n",
        "\n",
        "match = re.match(pattern, text)\n",
        "\n",
        "if match:\n",
        "    print(\"Match found!\")\n",
        "else:\n",
        "    print(\"No match.\")\n",
        "\n"
      ],
      "metadata": {
        "colab": {
          "base_uri": "https://localhost:8080/"
        },
        "id": "05N5Fjn6rfBm",
        "outputId": "48f62b99-d8db-4306-f0e5-c6e923d84202"
      },
      "execution_count": 8,
      "outputs": [
        {
          "output_type": "stream",
          "name": "stdout",
          "text": [
            "Match found!\n"
          ]
        }
      ]
    }
  ],
  "metadata": {
    "colab": {
      "provenance": [],
      "include_colab_link": true
    },
    "kernelspec": {
      "display_name": "Python 3",
      "name": "python3"
    }
  },
  "nbformat": 4,
  "nbformat_minor": 0
}